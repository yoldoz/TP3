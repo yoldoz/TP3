{
 "cells": [
  {
   "cell_type": "markdown",
   "metadata": {},
   "source": [
    "**Question 1:** Quelle architecture vous paraît la plus à même de traiter ce problème ?\n",
    "\n",
    "**Réponse:** \n",
    "\n",
    "L'architecture qui paraît la plus à même de traiter ce problème est celle de subsomption. En effet, il n'y a pas de communication directe entre les agents puisque lorsque les robots s'évitent lorsqu'ils se voient. En plus, les actions effectuées par le robot sont simples est suivent un ordre de priorité (se déplacer vers les mines, éviter un autre robot, etc).\n"
   ]
  },
  {
   "cell_type": "markdown",
   "metadata": {},
   "source": [
    "**Question 2:** Il est capital que les robots ne rentrent pas en collision les uns avec les autres. Cela prime sur chacun de leurs déplacement. Proposer un ordre de priorité pour les comportements décrits ci-dessus qui respecte cette contrainte et permette aux robots d’accomplir leur mission (NB, il est possible que plusieurs comportements doivent être fusionnés).\n",
    "Implémentez l’ordre que vous proposé précédemment. Ajoutez une métrique représentant le cumul des mines désamorcées à chaque tour. Enregistrez ce graphe et joignez le à votre TP. Lancez la simulation une dizaine de fois et donnez le temps moyen de désamorçage de toutes les mines.\n",
    "\n",
    "**Réponse:** \n",
    "\n",
    "L'ordre de priorité des comportements:\n",
    "\n",
    "1) Eviter un autre robot.\n",
    "2) Eviter un obstacle / les bords de l'environnement.\n",
    "3) Détruire une mine si on est dessus.\n",
    "4) Se diriger vers une mine.\n",
    "5) Se déplacer.\n",
    "\n",
    "![](q2.png)\n",
    "\n",
    "Après avoir lancé la simulation 10 fois, le temps de désamorçage des mines est de 265.7 étapes.\n"
   ]
  },
  {
   "cell_type": "markdown",
   "metadata": {},
   "source": [
    "**Question 3:** Quels principes des agents réactifs sont ici respectés ? Lesquels ne le sont pas ? Justifiez.\n",
    "\n",
    "**Réponse:** \n",
    "\n",
    "1) Modularité : il a un nombre fixe de modules qui caractérisent son mouvement et ses actions.\n",
    "2) Simplicité : les robots sont conçus d'une manière simple en choisissant leurs comportements sur la base des objets perçus.\n",
    "3) Pas de modèle : pas de compléxité concernant son traitement des informations."
   ]
  },
  {
   "cell_type": "markdown",
   "metadata": {},
   "source": [
    "**Question 4:** Commentez ce dernier point au regard des principes de l’architecture réactive.\n",
    "\n",
    "**Réponse:**\n",
    "\n",
    "Avec cette nouvelle approche, les agents communiquent entre eux indirectement puisque l'échange des informations n'est fait qu'à travers l'environnement."
   ]
  },
  {
   "cell_type": "markdown",
   "metadata": {},
   "source": [
    "**Question 5:** Proposez une nouvelle manière d’organiser ces comportements et justifiez.\n",
    "\n",
    "**Réponse:** \n",
    "\n",
    "On modifie l'organisation des comportements des robots en ajoutant les balises comme suit :\n",
    "1) Eviter un autre robots.\n",
    "2) Eviter un obstacle / les bords de l'environnement.\n",
    "3) Détruire une mine si on est dessus.\n",
    "4) Si balise danger détectée, faire demi tour.\n",
    "5) Si balise indication détectée, aller la ramasser et tourner.\n",
    "6) Se diriger vers une mine.\n",
    "7) Se déplacer."
   ]
  },
  {
   "cell_type": "markdown",
   "metadata": {},
   "source": [
    "**Question 6:** Relancez 10 simulations et incluez un graphe dans le rendu du TP. Quel est le temps moyen de désamorçage des mines ? Commentez.\n",
    "\n",
    "**Réponse:**\n",
    "\n",
    "Après avoir ajouté les balises, on lance 10 simulations et on obtient un temps de désamorçage moyen de 228.6.\n",
    "\n",
    "![](q6.png)\n",
    "\n",
    "En effet, les indications placées par les autres robots aident le robot à explorer l'espace plus rapidement. Ceci réduit le temps de désamotçage des mines."
   ]
  },
  {
   "cell_type": "markdown",
   "metadata": {},
   "source": [
    "**Question 7:** Ajoutez un reporter permettant de suivre le nombre de tours passés dans les sables mouvants. Comment les balises DANGER influencent-elles le temps moyen passé dans les sables mouvants ?\n",
    "\n",
    "**Réponse:**\n",
    "\n",
    "On remarque que le nombre de tours passés dans les sables mouvants augmente lorsqu'on a des balises DANGER par rapport où on en n'a pas, ce qui est logique vu que les robots sont réactifs (adaptent leurs trajectoires en fonction des balises).\n",
    "\n",
    "![](q7.png)\n",
    "![](q71.png)\n"
   ]
  }
 ],
 "metadata": {
  "language_info": {
   "name": "python"
  },
  "orig_nbformat": 4
 },
 "nbformat": 4,
 "nbformat_minor": 2
}
